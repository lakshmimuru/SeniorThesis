{
 "cells": [
  {
   "cell_type": "code",
   "execution_count": 2,
   "id": "794d1024",
   "metadata": {},
   "outputs": [],
   "source": [
    "import torch\n",
    "import torch.nn as nn\n",
    "import os\n",
    "import sys\n",
    "import numpy as np\n",
    "import argparse\n",
    "import yaml\n",
    "from matplotlib import pyplot as plt\n",
    "sys.path.append('../dsc/')\n",
    "sys.path.append(\"../..\")\n",
    "sys.path.append(\"../../tslib/src/\")\n",
    "sys.path.append(\"../../tslib/\")\n",
    "sys.path.append(os.getcwd())\n",
    "from dsc_model import DSCModel\n",
    "from bert2bert import Bert2BertSynCtrl\n",
    "from transformers import BertConfig\n",
    "from src import tsUtils\n",
    "import pandas as pd\n",
    "from src.synthcontrol.syntheticControl import RobustSyntheticControl\n",
    "from src.synthcontrol.multisyntheticControl import MultiRobustSyntheticControl\n",
    "%load_ext autoreload\n",
    "%autoreload 2"
   ]
  },
  {
   "cell_type": "code",
   "execution_count": 3,
   "id": "0f57a50c",
   "metadata": {},
   "outputs": [
    {
     "name": "stdout",
     "output_type": "stream",
     "text": [
      "[0.12162162162162163 0.603085553997195 0.06306306306306306\n",
      " 0.04237447502037234 0.05683836589698046 0.0 0.0 1.0 0.0 0.0 0.0 6.0 0.0\n",
      " '0' '0' '0' '0' '1' '2' '1' '1' '0' '0' '0' '0' '2' '18' '20' '12' '14'\n",
      " '2' '2' '2' '2' '0' '0' '0' '0' '2' '0' '0' '0' '0' '1' '1' '1' '2' '1'\n",
      " '2' '1' '1' '2' '2' '1' '0' '0' '0' '3' '4' '3' '0' '0' '0' '4' '4' '4'\n",
      " '1' '4' '2' '4' '4' '4' '2' '2' '1' 0.0 0.0 1.0 1.0 2.0 2.0 2.0 1.0 0.0\n",
      " 0.0 2.0 0.0 0.0 0.0 0.0 0.0 0.0 0.0 0.0 0.0 0.0 0.0 0.0 0.0 0.0 0.0 0.0\n",
      " 0.0 0.0 0.0 0.0 0.0 0.0 0.0 0.0 0.0 0.0 0.0 0.0 0.0 0.0 0.0 0.0 0.0 0.0\n",
      " 0.0 0.0 0.0 0.0 0.0 0.0 0.0 0.0 0.0 0.0 0.0 0.0 0.0 0.0 0.0 0.0 0.0 0.0\n",
      " 0.0 0.0 0.0 0.0 0.0 0.0 0.0 0.0 0.0 0.0 0.0 0.0 0.0 0.0 0.0 0.0 0.0 0.0\n",
      " 0.0 0.0 0.0 0.0 0.0 0.0 0.0]\n"
     ]
    }
   ],
   "source": [
    "datapath = f'../datasets/ataxia_cal/'\n",
    "data = np.load(datapath+'data.npy',allow_pickle=True)\n",
    "print(data[0,8])"
   ]
  },
  {
   "cell_type": "code",
   "execution_count": 10,
   "id": "03576718",
   "metadata": {},
   "outputs": [
    {
     "data": {
      "image/png": "[encoded data removed]",
      "text/plain": [
       "<Figure size 432x288 with 2 Axes>"
      ]
     },
     "metadata": {
      "needs_background": "light"
     },
     "output_type": "display_data"
    }
   ],
   "source": [
    "import matplotlib.image as mpimg\n",
    "import matplotlib.pyplot as plt\n",
    "\n",
    "img1 = mpimg.imread('./figs/farsn_slide_right.png')\n",
    "img2 = mpimg.imread('./figs/farsn_slide_left.png')\n",
    "img3 = mpimg.imread('./figs/farsn_tap_left.png')\n",
    "img4 = mpimg.imread('./figs/farsn_time_left.png')\n",
    "img5 = mpimg.imread('./figs/farsn_toes_left.png')\n",
    "img6 = mpimg.imread('./figs/adl_walking.png')\n",
    "\n",
    "plt.figure()\n",
    "ax = plt.subplot(211)\n",
    "ax.axis('off')\n",
    "plt.imshow(img1)\n",
    "ax = plt.subplot(212)\n",
    "ax.axis('off')\n",
    "plt.imshow(img2)\n",
    "plt.show()"
   ]
  },
  {
   "cell_type": "code",
   "execution_count": null,
   "id": "1ab23243",
   "metadata": {},
   "outputs": [],
   "source": []
  }
 ],
 "metadata": {
  "kernelspec": {
   "display_name": "Python 3",
   "language": "python",
   "name": "python3"
  },
  "language_info": {
   "codemirror_mode": {
    "name": "ipython",
    "version": 3
   },
   "file_extension": ".py",
   "mimetype": "text/x-python",
   "name": "python",
   "nbconvert_exporter": "python",
   "pygments_lexer": "ipython3",
   "version": "3.8.10"
  }
 },
 "nbformat": 4,
 "nbformat_minor": 5
}
