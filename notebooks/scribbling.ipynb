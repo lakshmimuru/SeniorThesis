{
 "cells": [
  {
   "cell_type": "code",
   "execution_count": 1,
   "id": "cc1d1148",
   "metadata": {},
   "outputs": [],
   "source": [
    "import numpy as np\n",
    "import os\n",
    "p_array = [0.1,0.3]\n",
    "path = '../datasets/synthetic_data_noise_1/'"
   ]
  },
  {
   "cell_type": "code",
   "execution_count": 2,
   "id": "2b3a3e85",
   "metadata": {},
   "outputs": [],
   "source": [
    "for p in p_array:\n",
    "    mask = np.load(path+'mask.npy')\n",
    "    data = np.load(path+'data.npy')\n",
    "    mean1=  np.load(path+'mean1.npy')\n",
    "    mean2 = np.load(path+'mean2.npy')\n",
    "    indices = np.random.choice(mask.shape[1]*mask.shape[0], replace=False, size=int(mask.shape[1]*mask.shape[0]*p))\n",
    "    mask[np.unravel_index(indices, mask.shape)] = 1\n",
    "    path_new = f'../datasets/synthetic_data_missing_{p}/'\n",
    "    if not(os.path.exists(path_new)):\n",
    "        os.mkdir(path_new)\n",
    "    np.save(path_new+'data.npy',data)\n",
    "    np.save(path_new+'mask.npy',mask)\n",
    "    np.save(path_new+'mean1.npy',mean1)\n",
    "    np.save(path_new+'mean2.npy',mean2)"
   ]
  },
  {
   "cell_type": "code",
   "execution_count": null,
   "id": "a88f191b",
   "metadata": {},
   "outputs": [],
   "source": []
  }
 ],
 "metadata": {
  "kernelspec": {
   "display_name": "Python 3",
   "language": "python",
   "name": "python3"
  },
  "language_info": {
   "codemirror_mode": {
    "name": "ipython",
    "version": 3
   },
   "file_extension": ".py",
   "mimetype": "text/x-python",
   "name": "python",
   "nbconvert_exporter": "python",
   "pygments_lexer": "ipython3",
   "version": "3.8.10"
  }
 },
 "nbformat": 4,
 "nbformat_minor": 5
}
