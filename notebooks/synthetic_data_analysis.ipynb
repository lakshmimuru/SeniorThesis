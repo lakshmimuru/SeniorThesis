{
 "cells": [
  {
   "cell_type": "code",
   "execution_count": 2,
   "id": "6bdac229",
   "metadata": {},
   "outputs": [],
   "source": [
    "#Author:Bhishma Dedhia\n",
    "\n",
    "import torch\n",
    "import torch.nn as nn\n",
    "import os\n",
    "import sys\n",
    "import numpy as np\n",
    "import argparse\n",
    "import yaml\n",
    "sys.path.append('../dsc/')\n",
    "from dsc_model import DSCModel\n",
    "from bert2bert import Bert2BertSynCtrl\n",
    "from transformers import BertConfig\n",
    "%load_ext autoreload\n",
    "%autoreload 2"
   ]
  },
  {
   "cell_type": "code",
   "execution_count": 4,
   "id": "44d90626",
   "metadata": {},
   "outputs": [],
   "source": [
    "datapath = '../datasets/synthetic_data1/'\n",
    "config_path = '../exp_configs/synthetic1/config.yaml'\n",
    "config = yaml.load(open(config_path,'r'),Loader=yaml.FullLoader)\n",
    "op_path = '../logs_dir/synthetic1/'\n",
    "if not(os.path.exists(op_path)):\n",
    "    os.mkdir(op_path)\n",
    "random_seed = 0\n",
    "target_index = 0\n",
    "interv_time = 22\n",
    "lowrank = False\n",
    "device = torch.device('cuda:0' if torch.cuda.is_available else \"cpu\")\n",
    "classes = None\n",
    "config_model = BertConfig(hidden_size = config['hidden_size'],\n",
    "                        num_hidden_layers = config['n_layers'],\n",
    "                        num_attention_heads = config['n_heads'],\n",
    "                        intermediate_size = 4*config['hidden_size'],\n",
    "                        vocab_size = 0,\n",
    "                        max_position_embeddings = 0,\n",
    "                        output_hidden_states = True,\n",
    "                        )\n",
    "\n",
    "config_model.add_syn_ctrl_config(K=config['K'],\n",
    "                                pre_int_len=config['pre_int_len'],\n",
    "                                post_int_len=config['post_int_len'],\n",
    "                                feature_dim=config['feature_dim'],\n",
    "                                time_range=config['time_range'],\n",
    "                                seq_range=config['seq_range'],\n",
    "                                cont_dim=config['cont_dim'],\n",
    "                                discrete_dim=config['discrete_dim'],\n",
    "                                classes = classes)\n",
    "model = Bert2BertSynCtrl(config_model, random_seed)\n",
    "model = model.to(device)\n",
    "dscmodel = DSCModel(model,\n",
    "                    config,\n",
    "                    op_path,\n",
    "                    target_index,\n",
    "                    random_seed,\n",
    "                    datapath,\n",
    "                    device,\n",
    "                    lowrank = False,\n",
    "                    classes=None)\n"
   ]
  },
  {
   "cell_type": "code",
   "execution_count": null,
   "id": "8a9810d2",
   "metadata": {},
   "outputs": [
    {
     "name": "stdout",
     "output_type": "stream",
     "text": [
      "Modifying K\n",
      "Fitting model on target unit\n",
      "Iteration:0\tLoss_mean:0.4288100302219391\tLoss_std:0.0\n",
      "Iteration:100\tLoss_mean:0.043327642492949965\tLoss_std:0.07264931238363878\n",
      "Iteration:200\tLoss_mean:0.002640431242662089\tLoss_std:0.0024644677901973847\n",
      "Iteration:300\tLoss_mean:0.0015620236853283133\tLoss_std:0.0013588609795172895\n",
      "Iteration:400\tLoss_mean:0.0011767265609523747\tLoss_std:0.0012462176592477326\n",
      "Iteration:500\tLoss_mean:0.00160954115522145\tLoss_std:0.0015756714932929755\n",
      "Iteration:600\tLoss_mean:0.0012153421631342098\tLoss_std:0.0012363186582966112\n",
      "Iteration:700\tLoss_mean:0.001288798181230959\tLoss_std:0.0013122481455611751\n",
      "Iteration:800\tLoss_mean:0.0006914247825443453\tLoss_std:0.0005000276335103972\n",
      "Iteration:900\tLoss_mean:0.001009640457778005\tLoss_std:0.0010360756226673517\n"
     ]
    }
   ],
   "source": [
    "#model_path = '../logs_dir/synthetic1/pretrain/model.pth'\n",
    "dscmodel.load_model_from_checkpoint(model_path)\n",
    "dscmodel.fit(interv_time)"
   ]
  },
  {
   "cell_type": "code",
   "execution_count": 26,
   "id": "8c44208e",
   "metadata": {},
   "outputs": [
    {
     "name": "stdout",
     "output_type": "stream",
     "text": [
      "51\n"
     ]
    }
   ],
   "source": [
    "model_path = '../logs_dir/synthetic1/finetune/model.pth'\n",
    "dscmodel.load_model_from_checkpoint(model_path)\n",
    "op = dscmodel.predict(interv_time)"
   ]
  },
  {
   "cell_type": "code",
   "execution_count": 27,
   "id": "9c3d1e4b",
   "metadata": {},
   "outputs": [
    {
     "name": "stdout",
     "output_type": "stream",
     "text": [
      "0.9163981739339312\n",
      "[22.061865 15.880838 19.19352  17.283714 20.290255 16.985134 17.319878\n",
      " 20.182495] [21.54488158 17.39623956 20.47738525 16.76257919 20.47738525 16.40398544\n",
      " 17.39623956 21.54488158]\n"
     ]
    }
   ],
   "source": [
    "#MSE\n",
    "meanmatrix = np.load(datapath+'mean1.npy')\n",
    "test_mean = meanmatrix[0,interv_time:]\n",
    "pred_mean=op[interv_time:]\n",
    "print(np.sqrt(np.mean((pred_mean - test_mean)**2)))\n",
    "print(pred_mean,test_mean)"
   ]
  },
  {
   "cell_type": "code",
   "execution_count": 15,
   "id": "22cd0df9",
   "metadata": {},
   "outputs": [
    {
     "data": {
      "text/plain": [
       "<matplotlib.collections.PolyCollection at 0x2aefbfead670>"
      ]
     },
     "execution_count": 15,
     "metadata": {},
     "output_type": "execute_result"
    },
    {
     "data": {
      "image/png": "[encoded data removed]",
      "text/plain": [
       "<Figure size 432x288 with 1 Axes>"
      ]
     },
     "metadata": {
      "needs_background": "light"
     },
     "output_type": "display_data"
    }
   ],
   "source": [
    "from matplotlib import pyplot as plt\n",
    "path = '../logs_dir/synthetic1/pretrain/model.pth'\n",
    "\n",
    "checkpoint = torch.load(path)\n",
    "logs = checkpoint['logs']\n",
    "iter_number = []\n",
    "mean_run = []\n",
    "std_run = []\n",
    "for key, value in logs.items():\n",
    "    iter_number.append(int(key))\n",
    "    mean_run.append(value['train_loss_mean'])\n",
    "    std_run.append(value['train_loss_std'])\n",
    "fig, ax = plt.subplots()\n",
    "mean_run = np.asarray(mean_run)\n",
    "std_run = np.asarray(std_run)\n",
    "ax.plot(iter_number, mean_run, '-')\n",
    "plt.xlabel('Iterations')\n",
    "plt.ylabel('Loss')\n",
    "plt.title('Pretrain')\n",
    "ax.fill_between(iter_number, mean_run - std_run,mean_run + std_run, alpha=0.2)"
   ]
  },
  {
   "cell_type": "code",
   "execution_count": 2,
   "id": "ba393e7a",
   "metadata": {},
   "outputs": [
    {
     "data": {
      "text/plain": [
       "<matplotlib.collections.PolyCollection at 0x2b8a1ef24f70>"
      ]
     },
     "execution_count": 2,
     "metadata": {},
     "output_type": "execute_result"
    },
    {
     "data": {
      "image/png": "[encoded data removed]",
      "text/plain": [
       "<Figure size 432x288 with 1 Axes>"
      ]
     },
     "metadata": {
      "needs_background": "light"
     },
     "output_type": "display_data"
    }
   ],
   "source": [
    "from matplotlib import pyplot as plt\n",
    "path = '../logs_dir/synthetic1/finetune/model.pth'\n",
    "\n",
    "checkpoint = torch.load(path)\n",
    "logs = checkpoint['logs']\n",
    "iter_number = []\n",
    "mean_run = []\n",
    "std_run = []\n",
    "for key, value in logs.items():\n",
    "    iter_number.append(int(key))\n",
    "    mean_run.append(value['train_loss_mean'])\n",
    "    std_run.append(value['train_loss_std'])\n",
    "fig, ax = plt.subplots()\n",
    "mean_run = np.asarray(mean_run)\n",
    "std_run = np.asarray(std_run)\n",
    "ax.plot(iter_number, mean_run, '-')\n",
    "plt.xlabel('Iterations')\n",
    "plt.ylabel('Loss')\n",
    "plt.title('Finetune')\n",
    "ax.fill_between(iter_number, mean_run - std_run,mean_run + std_run, alpha=0.2)"
   ]
  },
  {
   "cell_type": "code",
   "execution_count": null,
   "id": "179cc6f1",
   "metadata": {},
   "outputs": [],
   "source": []
  }
 ],
 "metadata": {
  "kernelspec": {
   "display_name": "Python 3",
   "language": "python",
   "name": "python3"
  },
  "language_info": {
   "codemirror_mode": {
    "name": "ipython",
    "version": 3
   },
   "file_extension": ".py",
   "mimetype": "text/x-python",
   "name": "python",
   "nbconvert_exporter": "python",
   "pygments_lexer": "ipython3",
   "version": "3.8.10"
  }
 },
 "nbformat": 4,
 "nbformat_minor": 5
}
