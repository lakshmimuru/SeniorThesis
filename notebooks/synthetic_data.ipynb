{
 "cells": [
  {
   "cell_type": "code",
   "execution_count": 4,
   "id": "b839f8ca",
   "metadata": {},
   "outputs": [
    {
     "name": "stdout",
     "output_type": "stream",
     "text": [
      "The autoreload extension is already loaded. To reload it, use:\n",
      "  %reload_ext autoreload\n"
     ]
    }
   ],
   "source": [
    "#Author:Bhishma Dedhia\n",
    "\n",
    "import torch\n",
    "import torch.nn as nn\n",
    "import os\n",
    "import sys\n",
    "import numpy as np\n",
    "import argparse\n",
    "import yaml\n",
    "sys.path.append('../dsc/')\n",
    "from dsc_model import DSCModel\n",
    "from bert2bert import Bert2BertSynCtrl\n",
    "from transformers import BertConfig\n",
    "%load_ext autoreload\n",
    "%autoreload 2"
   ]
  },
  {
   "cell_type": "code",
   "execution_count": 14,
   "id": "99c3c9f7",
   "metadata": {},
   "outputs": [],
   "source": [
    "datapath = '../datasets/basque/'\n",
    "config_path = '../exp_configs/basque/config_pretrain.yaml'\n",
    "config = yaml.load(open(config_path,'r'),Loader=yaml.FullLoader)\n",
    "op_path = '../logs_dir/basque/pretrain/'\n",
    "random_seed = 0\n",
    "target_index = 16\n",
    "interv_time = 15\n",
    "lowrank = False\n",
    "device = torch.device('cuda:0' if torch.cuda.is_available else \"cpu\")\n",
    "classes = None\n",
    "config_model = BertConfig(hidden_size = config['hidden_size'],\n",
    "                        num_hidden_layers = config['n_layers'],\n",
    "                        num_attention_heads = config['n_heads'],\n",
    "                        intermediate_size = 4*config['hidden_size'],\n",
    "                        vocab_size = 0,\n",
    "                        max_position_embeddings = 0,\n",
    "                        output_hidden_states = True,\n",
    "                        )\n",
    "\n",
    "config_model.add_syn_ctrl_config(K=config['K'],\n",
    "                                pre_int_len=config['pre_int_len'],\n",
    "                                post_int_len=config['post_int_len'],\n",
    "                                feature_dim=config['feature_dim'],\n",
    "                                time_range=config['time_range'],\n",
    "                                seq_range=config['seq_range'],\n",
    "                                cont_dim=config['cont_dim'],\n",
    "                                discrete_dim=config['discrete_dim'],\n",
    "                                classes = classes)\n",
    "model = Bert2BertSynCtrl(config_model, random_seed)\n",
    "model = model.to(device)\n",
    "dscmodel = DSCModel(model,\n",
    "                    config,\n",
    "                    op_path,\n",
    "                    target_index,\n",
    "                    random_seed,\n",
    "                    datapath,\n",
    "                    device,\n",
    "                    lowrank = False,\n",
    "                    classes=None)"
   ]
  },
  {
   "cell_type": "code",
   "execution_count": null,
   "id": "b0da88a3",
   "metadata": {},
   "outputs": [],
   "source": []
  }
 ],
 "metadata": {
  "kernelspec": {
   "display_name": "Python 3",
   "language": "python",
   "name": "python3"
  },
  "language_info": {
   "codemirror_mode": {
    "name": "ipython",
    "version": 3
   },
   "file_extension": ".py",
   "mimetype": "text/x-python",
   "name": "python",
   "nbconvert_exporter": "python",
   "pygments_lexer": "ipython3",
   "version": "3.8.10"
  }
 },
 "nbformat": 4,
 "nbformat_minor": 5
}
